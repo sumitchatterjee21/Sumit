{
 "cells": [
  {
   "cell_type": "code",
   "execution_count": 1,
   "metadata": {},
   "outputs": [
    {
     "data": {
      "text/plain": [
       "'\\n\\nThis is my first programming on python\\n\\n'"
      ]
     },
     "execution_count": 1,
     "metadata": {},
     "output_type": "execute_result"
    }
   ],
   "source": [
    "# Comment : Hi this is  Sumit\n",
    "# Here\n",
    "'''\n",
    "\n",
    "This is my first programming on python\n",
    "\n",
    "'''"
   ]
  },
  {
   "cell_type": "code",
   "execution_count": 2,
   "metadata": {},
   "outputs": [
    {
     "name": "stdout",
     "output_type": "stream",
     "text": [
      "9\n",
      "7.0\n",
      " Hello \n",
      " Data Science \n",
      " Here is my new begining \n"
     ]
    }
   ],
   "source": [
    "x = 9 # integer\n",
    "y = 7.0 # float\n",
    "z = \" Hello \" # string\n",
    "Z = \" Data Science \"\n",
    "A = \" Here is my new begining \"\n",
    "print(x)\n",
    "print(y)\n",
    "print(z)\n",
    "print(Z)\n",
    "print(A)"
   ]
  },
  {
   "cell_type": "code",
   "execution_count": 3,
   "metadata": {},
   "outputs": [
    {
     "name": "stdout",
     "output_type": "stream",
     "text": [
      "16.0\n"
     ]
    }
   ],
   "source": [
    "sum_ = x + y\n",
    "print (sum_)"
   ]
  },
  {
   "cell_type": "code",
   "execution_count": 4,
   "metadata": {},
   "outputs": [
    {
     "name": "stdout",
     "output_type": "stream",
     "text": [
      "2.0\n"
     ]
    }
   ],
   "source": [
    "sub_ = x-y\n",
    "print (sub_)"
   ]
  },
  {
   "cell_type": "code",
   "execution_count": 5,
   "metadata": {},
   "outputs": [
    {
     "name": "stdout",
     "output_type": "stream",
     "text": [
      " Data Science   is Awesome!\n",
      "The sum of x and y is 16.0000\n",
      "The string `sum_string` is ' Data Science   is Awesome!'\n"
     ]
    }
   ],
   "source": [
    "v = \" is Awesome!\"\n",
    "sum_string = Z + \" \" + v \n",
    "print(sum_string)\n",
    "print(\"The sum of x and y is %.4f\"%sum_) \n",
    "print(\"The string `sum_string` is '%s'\"%sum_string)"
   ]
  },
  {
   "cell_type": "code",
   "execution_count": 6,
   "metadata": {},
   "outputs": [
    {
     "data": {
      "text/plain": [
       "'my string'"
      ]
     },
     "execution_count": 6,
     "metadata": {},
     "output_type": "execute_result"
    }
   ],
   "source": [
    "myStringHere = 'my string'\n",
    "myStringHere"
   ]
  },
  {
   "cell_type": "code",
   "execution_count": 7,
   "metadata": {},
   "outputs": [
    {
     "ename": "SyntaxError",
     "evalue": "invalid token (<ipython-input-7-45c8ba370826>, line 3)",
     "output_type": "error",
     "traceback": [
      "\u001b[1;36m  File \u001b[1;32m\"<ipython-input-7-45c8ba370826>\"\u001b[1;36m, line \u001b[1;32m3\u001b[0m\n\u001b[1;33m    9_x = \"456\"\u001b[0m\n\u001b[1;37m     ^\u001b[0m\n\u001b[1;31mSyntaxError\u001b[0m\u001b[1;31m:\u001b[0m invalid token\n"
     ]
    }
   ],
   "source": [
    "x = 9\n",
    "x_9 = \"xyz\"\n",
    "9_x = \"456\""
   ]
  },
  {
   "cell_type": "code",
   "execution_count": 8,
   "metadata": {},
   "outputs": [],
   "source": [
    "store_name = \"Hi World\""
   ]
  },
  {
   "cell_type": "code",
   "execution_count": 9,
   "metadata": {},
   "outputs": [
    {
     "name": "stdout",
     "output_type": "stream",
     "text": [
      "i W\n"
     ]
    }
   ],
   "source": [
    "name_13 = store_name[1:4]\n",
    "print(name_13)"
   ]
  },
  {
   "cell_type": "code",
   "execution_count": 10,
   "metadata": {},
   "outputs": [
    {
     "name": "stdout",
     "output_type": "stream",
     "text": [
      "d\n"
     ]
    }
   ],
   "source": [
    "last_latter = store_name[-1]\n",
    "print(last_latter)"
   ]
  },
  {
   "cell_type": "code",
   "execution_count": 11,
   "metadata": {},
   "outputs": [
    {
     "name": "stdout",
     "output_type": "stream",
     "text": [
      "Length of a_list is: 6\n",
      "The 3rd element of a_list is: 3\n",
      "The last element of a_list is: 6\n",
      "The sum of a_list is 21.00\n"
     ]
    },
    {
     "data": {
      "text/plain": [
       "[100, False, 'awesome', 'great']"
      ]
     },
     "execution_count": 11,
     "metadata": {},
     "output_type": "execute_result"
    }
   ],
   "source": [
    "a_list = [1, 2, 3, 4, 5, 6] \n",
    "print(\"Length of a_list is: %i\"%(len(a_list)))\n",
    "print(\"The 3rd element of a_list is: %s\" %(a_list[2])) \n",
    "print(\"The last element of a_list is: %s\" %(a_list[-1])) \n",
    "print(\"The sum of a_list is %.2f\"%(sum(a_list)))\n",
    "\n",
    "b_list = [100, False, \"awesome\", \"great\"] \n",
    "b_list"
   ]
  },
  {
   "cell_type": "code",
   "execution_count": 13,
   "metadata": {},
   "outputs": [
    {
     "name": "stdout",
     "output_type": "stream",
     "text": [
      "[1, 3, 4, 5, 6, 500, 800, 100, False, 'awesome', 'great']\n",
      "pop 3 out of a_list\n",
      "[1, 4, 5, 6, 500, 800, 100, False, 'awesome', 'great']\n",
      "[1, 4, 5, 6, 500, 800, 100, False, 'awesome', 'great', 800]\n",
      "after appanding a new value, a_list is now: [1, 4, 5, 6, 500, 800, 100, False, 'awesome', 'great', 800]\n",
      "merging a_list and b_list: [1, 4, 5, 6, 500, 800, 100, False, 'awesome', 'great', 800, 100, False, 'awesome', 'great']\n",
      "[1, 4, 5, 6, 500, 500, 800, 100, False, 'awesome', 'great', 800, 100, False, 'awesome', 'great']\n"
     ]
    }
   ],
   "source": [
    "print(a_list)\n",
    "print (\"pop %i out of a_list\"%a_list.pop(1))\n",
    "print (a_list)\n",
    "\n",
    "a_list.append(800)\n",
    "print(a_list)\n",
    "print(\"after appanding a new value, a_list is now: %s\"%(str(a_list)))\n",
    "\n",
    "a_list.extend(b_list)\n",
    "print(\"merging a_list and b_list: %s\"%(str(a_list)))\n",
    "\n",
    "a_list.insert (5, 500)\n",
    "print(a_list)"
   ]
  },
  {
   "cell_type": "code",
   "execution_count": 14,
   "metadata": {},
   "outputs": [
    {
     "name": "stdout",
     "output_type": "stream",
     "text": [
      "[1, 4, 5, 15, 500, 500, 800, 100, False, 'awesome', 'great', 800, 100, False, 'awesome', 'great']\n"
     ]
    }
   ],
   "source": [
    "a_list[3] = 15\n",
    "print (a_list)"
   ]
  },
  {
   "cell_type": "code",
   "execution_count": 15,
   "metadata": {},
   "outputs": [
    {
     "name": "stdout",
     "output_type": "stream",
     "text": [
      "(1, 3, 7, 9, 11)\n",
      "First element of a_tuple: 1\n"
     ]
    },
    {
     "ename": "TypeError",
     "evalue": "'tuple' object does not support item assignment",
     "output_type": "error",
     "traceback": [
      "\u001b[1;31m---------------------------------------------------------------------------\u001b[0m",
      "\u001b[1;31mTypeError\u001b[0m                                 Traceback (most recent call last)",
      "\u001b[1;32m<ipython-input-15-e5266123a049>\u001b[0m in \u001b[0;36m<module>\u001b[1;34m\u001b[0m\n\u001b[0;32m      3\u001b[0m \u001b[0mprint\u001b[0m\u001b[1;33m(\u001b[0m\u001b[1;34m\"First element of a_tuple: %i\"\u001b[0m\u001b[1;33m%\u001b[0m\u001b[0ma_tuple\u001b[0m\u001b[1;33m[\u001b[0m\u001b[1;36m0\u001b[0m\u001b[1;33m]\u001b[0m\u001b[1;33m)\u001b[0m\u001b[1;33m\u001b[0m\u001b[1;33m\u001b[0m\u001b[0m\n\u001b[0;32m      4\u001b[0m \u001b[1;33m\u001b[0m\u001b[0m\n\u001b[1;32m----> 5\u001b[1;33m \u001b[0ma_tuple\u001b[0m\u001b[1;33m[\u001b[0m\u001b[1;36m3\u001b[0m\u001b[1;33m]\u001b[0m \u001b[1;33m=\u001b[0m \u001b[1;36m5\u001b[0m\u001b[1;33m\u001b[0m\u001b[1;33m\u001b[0m\u001b[0m\n\u001b[0m",
      "\u001b[1;31mTypeError\u001b[0m: 'tuple' object does not support item assignment"
     ]
    }
   ],
   "source": [
    "a_tuple = (1, 3, 7, 9, 11)\n",
    "print(a_tuple)\n",
    "print(\"First element of a_tuple: %i\"%a_tuple[0])\n",
    "\n",
    "a_tuple[3] = 5"
   ]
  },
  {
   "cell_type": "code",
   "execution_count": 16,
   "metadata": {},
   "outputs": [
    {
     "name": "stdout",
     "output_type": "stream",
     "text": [
      "<class 'int'>\n",
      "<class 'tuple'>\n"
     ]
    }
   ],
   "source": [
    "a_tuple = (1) \n",
    "print(type(a_tuple))\n",
    "b_tuple = (1,)\n",
    "print(type(b_tuple))"
   ]
  },
  {
   "cell_type": "code",
   "execution_count": 17,
   "metadata": {},
   "outputs": [],
   "source": [
    "### Create a string variable to concert all its characters into Upper Case"
   ]
  },
  {
   "cell_type": "code",
   "execution_count": 23,
   "metadata": {},
   "outputs": [
    {
     "name": "stdout",
     "output_type": "stream",
     "text": [
      "WORLD\n"
     ]
    }
   ],
   "source": [
    "a = \"world\"\n",
    "\n",
    "print(a.upper())"
   ]
  },
  {
   "cell_type": "code",
   "execution_count": 24,
   "metadata": {},
   "outputs": [],
   "source": [
    "d = {\"Name\":\"Sumit\", \"SchoolYears\":2010, \"Country\":\"01\" , \"Names\":\"Abhishek\"}"
   ]
  },
  {
   "cell_type": "code",
   "execution_count": 25,
   "metadata": {},
   "outputs": [
    {
     "name": "stdout",
     "output_type": "stream",
     "text": [
      "{'Name': 'Sumit', 'SchoolYears': 2010, 'Country': '01', 'Names': 'Abhishek'}\n"
     ]
    }
   ],
   "source": [
    "print(d)"
   ]
  },
  {
   "cell_type": "code",
   "execution_count": 29,
   "metadata": {},
   "outputs": [
    {
     "name": "stdout",
     "output_type": "stream",
     "text": [
      "{'Name': 'Chatterjee', 'SchoolYears': 2010, 'Country': '01', 'Names': 'Abhishek'}\n"
     ]
    }
   ],
   "source": [
    "d[\"Name\"]= \"Chatterjee\"\n",
    "print(d)"
   ]
  },
  {
   "cell_type": "code",
   "execution_count": 30,
   "metadata": {},
   "outputs": [
    {
     "name": "stdout",
     "output_type": "stream",
     "text": [
      "[5, 8, 7, 5]\n"
     ]
    },
    {
     "ename": "TypeError",
     "evalue": "'int' object is not iterable",
     "output_type": "error",
     "traceback": [
      "\u001b[1;31m---------------------------------------------------------------------------\u001b[0m",
      "\u001b[1;31mTypeError\u001b[0m                                 Traceback (most recent call last)",
      "\u001b[1;32m<ipython-input-30-fdcff4663cbe>\u001b[0m in \u001b[0;36m<module>\u001b[1;34m\u001b[0m\n\u001b[0;32m      1\u001b[0m \u001b[0ml\u001b[0m \u001b[1;33m=\u001b[0m \u001b[1;33m[\u001b[0m\u001b[1;36m5\u001b[0m\u001b[1;33m,\u001b[0m\u001b[1;36m8\u001b[0m\u001b[1;33m,\u001b[0m\u001b[1;36m7\u001b[0m\u001b[1;33m,\u001b[0m\u001b[1;36m5\u001b[0m\u001b[1;33m]\u001b[0m\u001b[1;33m\u001b[0m\u001b[1;33m\u001b[0m\u001b[0m\n\u001b[0;32m      2\u001b[0m \u001b[0mprint\u001b[0m\u001b[1;33m(\u001b[0m\u001b[0ml\u001b[0m\u001b[1;33m)\u001b[0m\u001b[1;33m\u001b[0m\u001b[1;33m\u001b[0m\u001b[0m\n\u001b[1;32m----> 3\u001b[1;33m \u001b[0mprint\u001b[0m\u001b[1;33m(\u001b[0m\u001b[0mset\u001b[0m\u001b[1;33m(\u001b[0m\u001b[1;36m1\u001b[0m\u001b[1;33m)\u001b[0m\u001b[1;33m)\u001b[0m\u001b[1;33m\u001b[0m\u001b[1;33m\u001b[0m\u001b[0m\n\u001b[0m",
      "\u001b[1;31mTypeError\u001b[0m: 'int' object is not iterable"
     ]
    }
   ],
   "source": [
    "l = [5,8,7,5]\n",
    "print(l)\n",
    "print(set(1))"
   ]
  },
  {
   "cell_type": "code",
   "execution_count": 35,
   "metadata": {},
   "outputs": [
    {
     "name": "stdout",
     "output_type": "stream",
     "text": [
      "False\n",
      "True\n",
      "Hi World\n",
      "False\n",
      "14.8\n",
      "True\n",
      "False\n"
     ]
    }
   ],
   "source": [
    "print(9 == 11)\n",
    "print(72 >= 2)\n",
    "print(store_name)\n",
    "print(store_name == \"Awesome\") # Will return a boolean value True or False\n",
    "\n",
    "# A Tricky situation.. Any reason why its false\n",
    "print(3.7 * 4.0)\n",
    "print(3.7 * 4.0 == 14.8)\n",
    "print(3.7 * 4.0 == 14.800001)"
   ]
  },
  {
   "cell_type": "code",
   "execution_count": 39,
   "metadata": {},
   "outputs": [],
   "source": [
    "sum_ = 9.0"
   ]
  },
  {
   "cell_type": "code",
   "execution_count": 40,
   "metadata": {},
   "outputs": [
    {
     "name": "stdout",
     "output_type": "stream",
     "text": [
      "sum_ is above 0 and its value is 9.0\n"
     ]
    }
   ],
   "source": [
    "if sum_ == 0:\n",
    "    print(\"sum_ is 0\")\n",
    "elif sum_ < 0:\n",
    "    print(\"sum_ is less than 0\")\n",
    "else:\n",
    "    print(\"sum_ is above 0 and its value is \" + str(sum_))"
   ]
  },
  {
   "cell_type": "code",
   "execution_count": 41,
   "metadata": {},
   "outputs": [
    {
     "name": "stdout",
     "output_type": "stream",
     "text": [
      "sum_ is above 2\n"
     ]
    }
   ],
   "source": [
    "if sum_ > 2:\n",
    "    print('sum_ is above 2')"
   ]
  },
  {
   "cell_type": "code",
   "execution_count": 42,
   "metadata": {},
   "outputs": [
    {
     "name": "stdout",
     "output_type": "stream",
     "text": [
      "H\n",
      "i\n",
      " \n",
      "W\n",
      "o\n",
      "r\n",
      "l\n",
      "d\n"
     ]
    }
   ],
   "source": [
    "for letter in store_name:\n",
    "    print(letter)"
   ]
  },
  {
   "cell_type": "code",
   "execution_count": 44,
   "metadata": {},
   "outputs": [
    {
     "name": "stdout",
     "output_type": "stream",
     "text": [
      "range(5) gives[0, 1, 2, 3, 4, 5, 6, 7, 8]\n",
      "range(1,9) gives: [1, 2, 3, 4, 5, 6, 7, 8, 9, 10, 11, 12, 13, 14]\n"
     ]
    }
   ],
   "source": [
    "print(\"range(5) gives\" + str(list(range(9)))) \n",
    "print(\"range(1,9) gives: \" + str(list(range(1, 15)))) "
   ]
  },
  {
   "cell_type": "code",
   "execution_count": 45,
   "metadata": {},
   "outputs": [
    {
     "data": {
      "text/plain": [
       "8"
      ]
     },
     "execution_count": 45,
     "metadata": {},
     "output_type": "execute_result"
    }
   ],
   "source": [
    "len(store_name)"
   ]
  },
  {
   "cell_type": "code",
   "execution_count": 46,
   "metadata": {},
   "outputs": [
    {
     "name": "stdout",
     "output_type": "stream",
     "text": [
      "The 0th letter in store_name is: H\n",
      "The 1th letter in store_name is: i\n",
      "The 2th letter in store_name is:  \n",
      "The 3th letter in store_name is: W\n",
      "The 4th letter in store_name is: o\n",
      "The 5th letter in store_name is: r\n",
      "The 6th letter in store_name is: l\n",
      "The 7th letter in store_name is: d\n"
     ]
    }
   ],
   "source": [
    "for index in range(len(store_name)): # length of a sequence\n",
    "    print(\"The %ith letter in store_name is: %s\"%(index, store_name[index]))"
   ]
  },
  {
   "cell_type": "code",
   "execution_count": 50,
   "metadata": {},
   "outputs": [
    {
     "name": "stdout",
     "output_type": "stream",
     "text": [
      "2\n",
      "3\n",
      "5\n",
      "9\n"
     ]
    }
   ],
   "source": [
    "x = 2\n",
    "while x < 10:\n",
    "    print(x)\n",
    "    x = x + (x-1)\n",
    "    #print(x)"
   ]
  },
  {
   "cell_type": "code",
   "execution_count": 51,
   "metadata": {},
   "outputs": [
    {
     "data": {
      "text/plain": [
       "'Hi World'"
      ]
     },
     "execution_count": 51,
     "metadata": {},
     "output_type": "execute_result"
    }
   ],
   "source": [
    "store_name"
   ]
  },
  {
   "cell_type": "code",
   "execution_count": 53,
   "metadata": {},
   "outputs": [
    {
     "name": "stdout",
     "output_type": "stream",
     "text": [
      "H\n",
      "i\n",
      " \n",
      "W\n",
      "o\n",
      "r\n",
      "l\n",
      "End at d\n"
     ]
    }
   ],
   "source": [
    "index = 0\n",
    "while True:\n",
    "    print(store_name[index])\n",
    "    index += 1 \n",
    "    if store_name[index] == \"d\":\n",
    "        print(\"End at d\")\n",
    "        break \n",
    "        print(\"Hello!\") "
   ]
  },
  {
   "cell_type": "code",
   "execution_count": 55,
   "metadata": {},
   "outputs": [
    {
     "name": "stdout",
     "output_type": "stream",
     "text": [
      "Orignal length of store_name is 8\n",
      "H\n",
      "Hello!\n",
      "i\n",
      "Hello!\n",
      " \n",
      "Hello!\n",
      "W\n",
      "Hello!\n",
      "o\n",
      "Hello!\n",
      "r\n",
      "Hello!\n",
      "l\n",
      "Hello!\n",
      "d\n",
      "This is an d\n"
     ]
    }
   ],
   "source": [
    "index = 0\n",
    "print('Orignal length of store_name is %s'%(len(store_name)))\n",
    "while index <= len(store_name)-1:\n",
    "    print(store_name[index])\n",
    "    if store_name[index] == \"d\":\n",
    "        print(\"This is an d\")\n",
    "        index += 1 \n",
    "        continue\n",
    "    print(\"Hello!\") \n",
    "    index += 1 "
   ]
  },
  {
   "cell_type": "code",
   "execution_count": 56,
   "metadata": {},
   "outputs": [
    {
     "name": "stdout",
     "output_type": "stream",
     "text": [
      "<class 'str'>\n",
      "8\n",
      "True\n",
      "24\n",
      "Sum of values from 0 to 20: 190.00\n",
      "Maximum value in list is: 19\n",
      "Minimum value in list is: 0\n"
     ]
    }
   ],
   "source": [
    "print(type(store_name))\n",
    "print(len(store_name))\n",
    "print(callable(dict))\n",
    "print(sum([0,2,5,7,10]))\n",
    "print(\"Sum of values from 0 to 20: %.2f\"%sum(range(20))) \n",
    "print('Maximum value in list is: %s'%max(range(20)))\n",
    "print('Minimum value in list is: %s'%min(range(20)))"
   ]
  },
  {
   "cell_type": "code",
   "execution_count": 57,
   "metadata": {},
   "outputs": [
    {
     "name": "stdout",
     "output_type": "stream",
     "text": [
      "[-5, -2, 0, 2, 5, 10, 21]\n",
      "Sorted list (in Descending): [21, 10, 5, 2, 0, -2, -5]\n"
     ]
    }
   ],
   "source": [
    "some_list = [0,2,5,10,-5,-2,21]\n",
    "print(sorted(some_list))\n",
    "some_list.sort(reverse=True)\n",
    "print ('Sorted list (in Descending):', some_list)"
   ]
  },
  {
   "cell_type": "code",
   "execution_count": 58,
   "metadata": {},
   "outputs": [],
   "source": [
    "ex = \"India\""
   ]
  },
  {
   "cell_type": "code",
   "execution_count": 60,
   "metadata": {},
   "outputs": [
    {
     "name": "stdout",
     "output_type": "stream",
     "text": [
      "Home town\n",
      "HOME TOWN\n",
      "home town\n",
      "0\n",
      "False\n",
      "False\n",
      "Home Town\n"
     ]
    }
   ],
   "source": [
    "some_string = 'Home Town'\n",
    "print(some_string.capitalize())\n",
    "print(some_string.upper())\n",
    "print(some_string.lower())\n",
    "print(some_string.count('a'))\n",
    "print(some_string.startswith('a'))\n",
    "print(some_string.endswith('d'))\n",
    "print(some_string.replace('d','ds'))"
   ]
  },
  {
   "cell_type": "code",
   "execution_count": 61,
   "metadata": {},
   "outputs": [
    {
     "name": "stdout",
     "output_type": "stream",
     "text": [
      "{'Name': 'Prabir', 'Last_Name': 'Chatterjee', 'Age': 56, 'Kids': [1, 2]}\n"
     ]
    }
   ],
   "source": [
    "dictName = {'Name':'Prabir',\"Last_Name\":'Chatterjee',\"Age\":56, 'Kids':[1,2]}\n",
    "print(dictName)"
   ]
  },
  {
   "cell_type": "code",
   "execution_count": null,
   "metadata": {},
   "outputs": [],
   "source": []
  },
  {
   "cell_type": "code",
   "execution_count": 62,
   "metadata": {},
   "outputs": [
    {
     "name": "stdout",
     "output_type": "stream",
     "text": [
      "dict_items([('Name', 'Prabir'), ('Last_Name', 'Chatterjee'), ('Age', 56), ('Kids', [1, 2])])\n"
     ]
    }
   ],
   "source": [
    "print(dictName.items())"
   ]
  },
  {
   "cell_type": "code",
   "execution_count": 63,
   "metadata": {},
   "outputs": [
    {
     "name": "stdout",
     "output_type": "stream",
     "text": [
      "('Name', 'Prabir')\n",
      "('Last_Name', 'Chatterjee')\n",
      "('Age', 56)\n",
      "('Kids', [1, 2])\n"
     ]
    }
   ],
   "source": [
    "for key in dictName.items():\n",
    "    print(key)"
   ]
  },
  {
   "cell_type": "code",
   "execution_count": 64,
   "metadata": {},
   "outputs": [
    {
     "name": "stdout",
     "output_type": "stream",
     "text": [
      "56\n",
      "Name => Prabir\n",
      "Last_Name => Chatterjee\n",
      "Age => 56\n",
      "Kids => [1, 2]\n",
      "dict_values(['Prabir', 'Chatterjee', 56, [1, 2]])\n"
     ]
    }
   ],
   "source": [
    "print(dictName['Age'])\n",
    "\n",
    "for key,val in dictName.items():\n",
    "    print(key, \"=>\", val)\n",
    "\n",
    "print(dictName.values())"
   ]
  },
  {
   "cell_type": "code",
   "execution_count": 66,
   "metadata": {},
   "outputs": [
    {
     "data": {
      "text/plain": [
       "range(0, 9)"
      ]
     },
     "execution_count": 66,
     "metadata": {},
     "output_type": "execute_result"
    }
   ],
   "source": [
    "range(9) # [0,1,2,3,4,5,6,7,8]"
   ]
  },
  {
   "cell_type": "code",
   "execution_count": 67,
   "metadata": {},
   "outputs": [],
   "source": [
    "def mySum(list_to_sum):\n",
    "    return sum(list_to_sum)"
   ]
  },
  {
   "cell_type": "code",
   "execution_count": 68,
   "metadata": {},
   "outputs": [
    {
     "name": "stdout",
     "output_type": "stream",
     "text": [
      "19900\n"
     ]
    }
   ],
   "source": [
    "vari = mySum(range(200))\n",
    "print(vari)"
   ]
  },
  {
   "cell_type": "code",
   "execution_count": 69,
   "metadata": {},
   "outputs": [],
   "source": [
    "def mySumUsingLoop(list_to_sum):\n",
    "    sum_ = list_to_sum[0]\n",
    "    for item in list_to_sum[1:]:\n",
    "        sum_ += item\n",
    "    return sum_"
   ]
  },
  {
   "cell_type": "code",
   "execution_count": 70,
   "metadata": {},
   "outputs": [],
   "source": [
    "def customSum(x,y):\n",
    "    z = x + y\n",
    "    print(z)"
   ]
  },
  {
   "cell_type": "code",
   "execution_count": 71,
   "metadata": {},
   "outputs": [
    {
     "name": "stdout",
     "output_type": "stream",
     "text": [
      "9000\n"
     ]
    }
   ],
   "source": [
    "customSum(1500,7500)"
   ]
  },
  {
   "cell_type": "code",
   "execution_count": 73,
   "metadata": {},
   "outputs": [],
   "source": [
    "Lst = [0,1,2,3,4,5,6,7,8]"
   ]
  },
  {
   "cell_type": "code",
   "execution_count": 74,
   "metadata": {},
   "outputs": [
    {
     "data": {
      "text/plain": [
       "19900"
      ]
     },
     "execution_count": 74,
     "metadata": {},
     "output_type": "execute_result"
    }
   ],
   "source": [
    "mySumUsingLoop(range(200))"
   ]
  },
  {
   "cell_type": "code",
   "execution_count": 75,
   "metadata": {},
   "outputs": [
    {
     "name": "stdout",
     "output_type": "stream",
     "text": [
      "19900\n"
     ]
    }
   ],
   "source": [
    "print(mySum(range(200)))"
   ]
  },
  {
   "cell_type": "code",
   "execution_count": 93,
   "metadata": {},
   "outputs": [],
   "source": [
    "Newdict = [{ \"name\" : \"Sumit\", \"age\" : 25},{ \"name\" : \"Prabir\", \"age\" : 56 },{ \"name\" : \"Arati\" , \"age\" : 45 },\n",
    "           { \"name\" : \"Arpita\" , \"age\" : 29 }, { \"name\" : \"Krishna\" , \"age\" : 32 }, { \"name\" : \"Sudipa\" , \"age\" : 20 },\n",
    "          { \"name\" : \"Vihaan\" , \"age\" : 4 }] "
   ]
  },
  {
   "cell_type": "code",
   "execution_count": 103,
   "metadata": {},
   "outputs": [
    {
     "name": "stdout",
     "output_type": "stream",
     "text": [
      "[{'name': 'Vihaan', 'age': 4}, {'name': 'Sudipa', 'age': 20}, {'name': 'Sumit', 'age': 25}, {'name': 'Arpita', 'age': 29}, {'name': 'Krishna', 'age': 32}, {'name': 'Arati', 'age': 45}, {'name': 'Prabir', 'age': 56}]\n"
     ]
    }
   ],
   "source": [
    "Newdict.sort(key=lambda x:x[\"age\"])\n",
    "print(Newdict)"
   ]
  },
  {
   "cell_type": "code",
   "execution_count": 104,
   "metadata": {},
   "outputs": [
    {
     "name": "stdout",
     "output_type": "stream",
     "text": [
      "[{'name': 'Arati', 'age': 45}, {'name': 'Arpita', 'age': 29}, {'name': 'Krishna', 'age': 32}, {'name': 'Prabir', 'age': 56}, {'name': 'Sudipa', 'age': 20}, {'name': 'Sumit', 'age': 25}, {'name': 'Vihaan', 'age': 4}]\n"
     ]
    }
   ],
   "source": [
    "Newdict.sort(key=lambda x:x[\"name\"])\n",
    "print(Newdict)"
   ]
  },
  {
   "cell_type": "code",
   "execution_count": 107,
   "metadata": {},
   "outputs": [
    {
     "name": "stdout",
     "output_type": "stream",
     "text": [
      "Enter lower range: 1\n",
      "Enter upper range: 10000\n",
      "2\n",
      "3\n",
      "5\n",
      "7\n",
      "11\n",
      "13\n",
      "17\n",
      "19\n",
      "23\n",
      "29\n",
      "31\n",
      "37\n",
      "41\n",
      "43\n",
      "47\n",
      "53\n",
      "59\n",
      "61\n",
      "67\n",
      "71\n",
      "73\n",
      "79\n",
      "83\n",
      "89\n",
      "97\n",
      "101\n",
      "103\n",
      "107\n",
      "109\n",
      "113\n",
      "127\n",
      "131\n",
      "137\n",
      "139\n",
      "149\n",
      "151\n",
      "157\n",
      "163\n",
      "167\n",
      "173\n",
      "179\n",
      "181\n",
      "191\n",
      "193\n",
      "197\n",
      "199\n",
      "211\n",
      "223\n",
      "227\n",
      "229\n",
      "233\n",
      "239\n",
      "241\n",
      "251\n",
      "257\n",
      "263\n",
      "269\n",
      "271\n",
      "277\n",
      "281\n",
      "283\n",
      "293\n",
      "307\n",
      "311\n",
      "313\n",
      "317\n",
      "331\n",
      "337\n",
      "347\n",
      "349\n",
      "353\n",
      "359\n",
      "367\n",
      "373\n",
      "379\n",
      "383\n",
      "389\n",
      "397\n",
      "401\n",
      "409\n",
      "419\n",
      "421\n",
      "431\n",
      "433\n",
      "439\n",
      "443\n",
      "449\n",
      "457\n",
      "461\n",
      "463\n",
      "467\n",
      "479\n",
      "487\n",
      "491\n",
      "499\n",
      "503\n",
      "509\n",
      "521\n",
      "523\n",
      "541\n",
      "547\n",
      "557\n",
      "563\n",
      "569\n",
      "571\n",
      "577\n",
      "587\n",
      "593\n",
      "599\n",
      "601\n",
      "607\n",
      "613\n",
      "617\n",
      "619\n",
      "631\n",
      "641\n",
      "643\n",
      "647\n",
      "653\n",
      "659\n",
      "661\n",
      "673\n",
      "677\n",
      "683\n",
      "691\n",
      "701\n",
      "709\n",
      "719\n",
      "727\n",
      "733\n",
      "739\n",
      "743\n",
      "751\n",
      "757\n",
      "761\n",
      "769\n",
      "773\n",
      "787\n",
      "797\n",
      "809\n",
      "811\n",
      "821\n",
      "823\n",
      "827\n",
      "829\n",
      "839\n",
      "853\n",
      "857\n",
      "859\n",
      "863\n",
      "877\n",
      "881\n",
      "883\n",
      "887\n",
      "907\n",
      "911\n",
      "919\n",
      "929\n",
      "937\n",
      "941\n",
      "947\n",
      "953\n",
      "967\n",
      "971\n",
      "977\n",
      "983\n",
      "991\n",
      "997\n",
      "1009\n",
      "1013\n",
      "1019\n",
      "1021\n",
      "1031\n",
      "1033\n",
      "1039\n",
      "1049\n",
      "1051\n",
      "1061\n",
      "1063\n",
      "1069\n",
      "1087\n",
      "1091\n",
      "1093\n",
      "1097\n",
      "1103\n",
      "1109\n",
      "1117\n",
      "1123\n",
      "1129\n",
      "1151\n",
      "1153\n",
      "1163\n",
      "1171\n",
      "1181\n",
      "1187\n",
      "1193\n",
      "1201\n",
      "1213\n",
      "1217\n",
      "1223\n",
      "1229\n",
      "1231\n",
      "1237\n",
      "1249\n",
      "1259\n",
      "1277\n",
      "1279\n",
      "1283\n",
      "1289\n",
      "1291\n",
      "1297\n",
      "1301\n",
      "1303\n",
      "1307\n",
      "1319\n",
      "1321\n",
      "1327\n",
      "1361\n",
      "1367\n",
      "1373\n",
      "1381\n",
      "1399\n",
      "1409\n",
      "1423\n",
      "1427\n",
      "1429\n",
      "1433\n",
      "1439\n",
      "1447\n",
      "1451\n",
      "1453\n",
      "1459\n",
      "1471\n",
      "1481\n",
      "1483\n",
      "1487\n",
      "1489\n",
      "1493\n",
      "1499\n",
      "1511\n",
      "1523\n",
      "1531\n",
      "1543\n",
      "1549\n",
      "1553\n",
      "1559\n",
      "1567\n",
      "1571\n",
      "1579\n",
      "1583\n",
      "1597\n",
      "1601\n",
      "1607\n",
      "1609\n",
      "1613\n",
      "1619\n",
      "1621\n",
      "1627\n",
      "1637\n",
      "1657\n",
      "1663\n",
      "1667\n",
      "1669\n",
      "1693\n",
      "1697\n",
      "1699\n",
      "1709\n",
      "1721\n",
      "1723\n",
      "1733\n",
      "1741\n",
      "1747\n",
      "1753\n",
      "1759\n",
      "1777\n",
      "1783\n",
      "1787\n",
      "1789\n",
      "1801\n",
      "1811\n",
      "1823\n",
      "1831\n",
      "1847\n",
      "1861\n",
      "1867\n",
      "1871\n",
      "1873\n",
      "1877\n",
      "1879\n",
      "1889\n",
      "1901\n",
      "1907\n",
      "1913\n",
      "1931\n",
      "1933\n",
      "1949\n",
      "1951\n",
      "1973\n",
      "1979\n",
      "1987\n",
      "1993\n",
      "1997\n",
      "1999\n",
      "2003\n",
      "2011\n",
      "2017\n",
      "2027\n",
      "2029\n",
      "2039\n",
      "2053\n",
      "2063\n",
      "2069\n",
      "2081\n",
      "2083\n",
      "2087\n",
      "2089\n",
      "2099\n",
      "2111\n",
      "2113\n",
      "2129\n",
      "2131\n",
      "2137\n",
      "2141\n",
      "2143\n",
      "2153\n",
      "2161\n",
      "2179\n",
      "2203\n",
      "2207\n",
      "2213\n",
      "2221\n",
      "2237\n",
      "2239\n",
      "2243\n",
      "2251\n",
      "2267\n",
      "2269\n",
      "2273\n",
      "2281\n",
      "2287\n",
      "2293\n",
      "2297\n",
      "2309\n",
      "2311\n",
      "2333\n",
      "2339\n",
      "2341\n",
      "2347\n",
      "2351\n",
      "2357\n",
      "2371\n",
      "2377\n",
      "2381\n",
      "2383\n",
      "2389\n",
      "2393\n",
      "2399\n",
      "2411\n",
      "2417\n",
      "2423\n",
      "2437\n",
      "2441\n",
      "2447\n",
      "2459\n",
      "2467\n",
      "2473\n",
      "2477\n",
      "2503\n",
      "2521\n",
      "2531\n",
      "2539\n",
      "2543\n",
      "2549\n",
      "2551\n",
      "2557\n",
      "2579\n",
      "2591\n",
      "2593\n",
      "2609\n",
      "2617\n",
      "2621\n",
      "2633\n",
      "2647\n",
      "2657\n",
      "2659\n",
      "2663\n",
      "2671\n",
      "2677\n",
      "2683\n",
      "2687\n",
      "2689\n",
      "2693\n",
      "2699\n",
      "2707\n",
      "2711\n",
      "2713\n",
      "2719\n",
      "2729\n",
      "2731\n",
      "2741\n",
      "2749\n",
      "2753\n",
      "2767\n",
      "2777\n",
      "2789\n",
      "2791\n",
      "2797\n",
      "2801\n",
      "2803\n",
      "2819\n",
      "2833\n",
      "2837\n",
      "2843\n",
      "2851\n",
      "2857\n",
      "2861\n",
      "2879\n",
      "2887\n",
      "2897\n",
      "2903\n",
      "2909\n",
      "2917\n",
      "2927\n",
      "2939\n",
      "2953\n",
      "2957\n",
      "2963\n",
      "2969\n",
      "2971\n",
      "2999\n",
      "3001\n",
      "3011\n",
      "3019\n",
      "3023\n",
      "3037\n",
      "3041\n",
      "3049\n",
      "3061\n",
      "3067\n",
      "3079\n",
      "3083\n",
      "3089\n",
      "3109\n",
      "3119\n",
      "3121\n",
      "3137\n",
      "3163\n",
      "3167\n",
      "3169\n",
      "3181\n",
      "3187\n",
      "3191\n",
      "3203\n",
      "3209\n",
      "3217\n",
      "3221\n",
      "3229\n",
      "3251\n",
      "3253\n",
      "3257\n",
      "3259\n",
      "3271\n",
      "3299\n",
      "3301\n",
      "3307\n",
      "3313\n",
      "3319\n",
      "3323\n",
      "3329\n",
      "3331\n",
      "3343\n",
      "3347\n",
      "3359\n",
      "3361\n",
      "3371\n",
      "3373\n",
      "3389\n",
      "3391\n",
      "3407\n",
      "3413\n",
      "3433\n",
      "3449\n",
      "3457\n",
      "3461\n",
      "3463\n",
      "3467\n",
      "3469\n",
      "3491\n",
      "3499\n",
      "3511\n",
      "3517\n",
      "3527\n",
      "3529\n",
      "3533\n",
      "3539\n",
      "3541\n",
      "3547\n",
      "3557\n",
      "3559\n",
      "3571\n",
      "3581\n",
      "3583\n",
      "3593\n",
      "3607\n",
      "3613\n",
      "3617\n",
      "3623\n",
      "3631\n",
      "3637\n",
      "3643\n",
      "3659\n",
      "3671\n",
      "3673\n",
      "3677\n",
      "3691\n",
      "3697\n",
      "3701\n",
      "3709\n",
      "3719\n",
      "3727\n",
      "3733\n",
      "3739\n",
      "3761\n",
      "3767\n",
      "3769\n",
      "3779\n",
      "3793\n",
      "3797\n",
      "3803\n",
      "3821\n",
      "3823\n",
      "3833\n",
      "3847\n",
      "3851\n",
      "3853\n",
      "3863\n",
      "3877\n",
      "3881\n",
      "3889\n",
      "3907\n",
      "3911\n",
      "3917\n",
      "3919\n",
      "3923\n",
      "3929\n",
      "3931\n",
      "3943\n",
      "3947\n",
      "3967\n",
      "3989\n",
      "4001\n",
      "4003\n",
      "4007\n",
      "4013\n",
      "4019\n",
      "4021\n",
      "4027\n",
      "4049\n",
      "4051\n",
      "4057\n",
      "4073\n",
      "4079\n",
      "4091\n",
      "4093\n",
      "4099\n",
      "4111\n",
      "4127\n",
      "4129\n",
      "4133\n",
      "4139\n",
      "4153\n",
      "4157\n",
      "4159\n",
      "4177\n",
      "4201\n",
      "4211\n",
      "4217\n",
      "4219\n",
      "4229\n",
      "4231\n",
      "4241\n",
      "4243\n",
      "4253\n",
      "4259\n",
      "4261\n",
      "4271\n",
      "4273\n",
      "4283\n",
      "4289\n",
      "4297\n",
      "4327\n",
      "4337\n",
      "4339\n",
      "4349\n",
      "4357\n",
      "4363\n",
      "4373\n",
      "4391\n",
      "4397\n",
      "4409\n",
      "4421\n",
      "4423\n",
      "4441\n",
      "4447\n",
      "4451\n",
      "4457\n",
      "4463\n",
      "4481\n",
      "4483\n",
      "4493\n",
      "4507\n",
      "4513\n",
      "4517\n",
      "4519\n",
      "4523\n",
      "4547\n",
      "4549\n",
      "4561\n",
      "4567\n",
      "4583\n",
      "4591\n",
      "4597\n",
      "4603\n",
      "4621\n",
      "4637\n",
      "4639\n",
      "4643\n",
      "4649\n",
      "4651\n",
      "4657\n",
      "4663\n",
      "4673\n",
      "4679\n",
      "4691\n",
      "4703\n",
      "4721\n",
      "4723\n",
      "4729\n",
      "4733\n",
      "4751\n",
      "4759\n",
      "4783\n",
      "4787\n",
      "4789\n",
      "4793\n",
      "4799\n",
      "4801\n",
      "4813\n",
      "4817\n",
      "4831\n",
      "4861\n",
      "4871\n",
      "4877\n",
      "4889\n",
      "4903\n",
      "4909\n",
      "4919\n",
      "4931\n",
      "4933\n",
      "4937\n",
      "4943\n",
      "4951\n",
      "4957\n",
      "4967\n",
      "4969\n",
      "4973\n",
      "4987\n",
      "4993\n",
      "4999\n",
      "5003\n",
      "5009\n",
      "5011\n",
      "5021\n",
      "5023\n",
      "5039\n",
      "5051\n",
      "5059\n",
      "5077\n",
      "5081\n",
      "5087\n",
      "5099\n",
      "5101\n",
      "5107\n",
      "5113\n",
      "5119\n",
      "5147\n",
      "5153\n",
      "5167\n",
      "5171\n",
      "5179\n",
      "5189\n",
      "5197\n",
      "5209\n",
      "5227\n",
      "5231\n",
      "5233\n",
      "5237\n",
      "5261\n",
      "5273\n",
      "5279\n",
      "5281\n",
      "5297\n",
      "5303\n",
      "5309\n",
      "5323\n",
      "5333\n",
      "5347\n",
      "5351\n",
      "5381\n",
      "5387\n",
      "5393\n",
      "5399\n",
      "5407\n",
      "5413\n",
      "5417\n",
      "5419\n",
      "5431\n",
      "5437\n",
      "5441\n",
      "5443\n",
      "5449\n",
      "5471\n",
      "5477\n",
      "5479\n",
      "5483\n",
      "5501\n",
      "5503\n",
      "5507\n",
      "5519\n",
      "5521\n",
      "5527\n",
      "5531\n",
      "5557\n",
      "5563\n",
      "5569\n",
      "5573\n",
      "5581\n",
      "5591\n",
      "5623\n",
      "5639\n",
      "5641\n",
      "5647\n",
      "5651\n",
      "5653\n",
      "5657\n",
      "5659\n",
      "5669\n",
      "5683\n",
      "5689\n",
      "5693\n",
      "5701\n",
      "5711\n",
      "5717\n",
      "5737\n",
      "5741\n",
      "5743\n",
      "5749\n",
      "5779\n",
      "5783\n",
      "5791\n",
      "5801\n",
      "5807\n",
      "5813\n",
      "5821\n",
      "5827\n",
      "5839\n",
      "5843\n",
      "5849\n",
      "5851\n",
      "5857\n",
      "5861\n",
      "5867\n",
      "5869\n",
      "5879\n",
      "5881\n",
      "5897\n",
      "5903\n",
      "5923\n",
      "5927\n",
      "5939\n",
      "5953\n",
      "5981\n",
      "5987\n",
      "6007\n",
      "6011\n",
      "6029\n",
      "6037\n",
      "6043\n",
      "6047\n",
      "6053\n",
      "6067\n",
      "6073\n",
      "6079\n",
      "6089\n",
      "6091\n",
      "6101\n",
      "6113\n",
      "6121\n",
      "6131\n",
      "6133\n",
      "6143\n",
      "6151\n",
      "6163\n",
      "6173\n",
      "6197\n",
      "6199\n",
      "6203\n",
      "6211\n",
      "6217\n",
      "6221\n",
      "6229\n",
      "6247\n",
      "6257\n",
      "6263\n",
      "6269\n",
      "6271\n",
      "6277\n",
      "6287\n",
      "6299\n",
      "6301\n",
      "6311\n",
      "6317\n",
      "6323\n",
      "6329\n",
      "6337\n",
      "6343\n",
      "6353\n",
      "6359\n",
      "6361\n",
      "6367\n",
      "6373\n",
      "6379\n",
      "6389\n",
      "6397\n",
      "6421\n",
      "6427\n",
      "6449\n",
      "6451\n",
      "6469\n",
      "6473\n",
      "6481\n",
      "6491\n",
      "6521\n",
      "6529\n",
      "6547\n",
      "6551\n",
      "6553\n",
      "6563\n",
      "6569\n",
      "6571\n",
      "6577\n",
      "6581\n",
      "6599\n",
      "6607\n",
      "6619\n",
      "6637\n",
      "6653\n",
      "6659\n",
      "6661\n",
      "6673\n",
      "6679\n",
      "6689\n",
      "6691\n",
      "6701\n",
      "6703\n",
      "6709\n",
      "6719\n",
      "6733\n",
      "6737\n",
      "6761\n",
      "6763\n",
      "6779\n",
      "6781\n",
      "6791\n",
      "6793\n",
      "6803\n",
      "6823\n",
      "6827\n",
      "6829\n",
      "6833\n",
      "6841\n",
      "6857\n",
      "6863\n",
      "6869\n",
      "6871\n",
      "6883\n",
      "6899\n",
      "6907\n",
      "6911\n",
      "6917\n",
      "6947\n",
      "6949\n",
      "6959\n",
      "6961\n",
      "6967\n",
      "6971\n",
      "6977\n",
      "6983\n",
      "6991\n",
      "6997\n",
      "7001\n",
      "7013\n",
      "7019\n",
      "7027\n",
      "7039\n",
      "7043\n",
      "7057\n",
      "7069\n",
      "7079\n",
      "7103\n",
      "7109\n",
      "7121\n",
      "7127\n",
      "7129\n",
      "7151\n",
      "7159\n",
      "7177\n",
      "7187\n",
      "7193\n",
      "7207\n",
      "7211\n",
      "7213\n",
      "7219\n",
      "7229\n",
      "7237\n",
      "7243\n",
      "7247\n",
      "7253\n",
      "7283\n",
      "7297\n",
      "7307\n",
      "7309\n",
      "7321\n",
      "7331\n",
      "7333\n",
      "7349\n",
      "7351\n",
      "7369\n",
      "7393\n",
      "7411\n",
      "7417\n",
      "7433\n",
      "7451\n",
      "7457\n",
      "7459\n",
      "7477\n",
      "7481\n",
      "7487\n",
      "7489\n",
      "7499\n",
      "7507\n",
      "7517\n",
      "7523\n",
      "7529\n",
      "7537\n",
      "7541\n",
      "7547\n",
      "7549\n",
      "7559\n",
      "7561\n",
      "7573\n",
      "7577\n",
      "7583\n",
      "7589\n",
      "7591\n",
      "7603\n",
      "7607\n",
      "7621\n",
      "7639\n",
      "7643\n",
      "7649\n",
      "7669\n",
      "7673\n",
      "7681\n",
      "7687\n",
      "7691\n",
      "7699\n",
      "7703\n",
      "7717\n",
      "7723\n",
      "7727\n",
      "7741\n",
      "7753\n",
      "7757\n",
      "7759\n",
      "7789\n",
      "7793\n",
      "7817\n",
      "7823\n",
      "7829\n",
      "7841\n",
      "7853\n",
      "7867\n",
      "7873\n",
      "7877\n",
      "7879\n",
      "7883\n",
      "7901\n",
      "7907\n",
      "7919\n",
      "7927\n",
      "7933\n",
      "7937\n",
      "7949\n",
      "7951\n",
      "7963\n",
      "7993\n",
      "8009\n",
      "8011\n",
      "8017\n",
      "8039\n",
      "8053\n",
      "8059\n",
      "8069\n",
      "8081\n",
      "8087\n",
      "8089\n",
      "8093\n",
      "8101\n",
      "8111\n",
      "8117\n",
      "8123\n",
      "8147\n",
      "8161\n",
      "8167\n",
      "8171\n",
      "8179\n",
      "8191\n",
      "8209\n",
      "8219\n",
      "8221\n",
      "8231\n",
      "8233\n",
      "8237\n",
      "8243\n",
      "8263\n",
      "8269\n",
      "8273\n",
      "8287\n",
      "8291\n",
      "8293\n",
      "8297\n",
      "8311\n",
      "8317\n",
      "8329\n",
      "8353\n",
      "8363\n",
      "8369\n",
      "8377\n",
      "8387\n",
      "8389\n",
      "8419\n",
      "8423\n",
      "8429\n",
      "8431\n",
      "8443\n",
      "8447\n",
      "8461\n",
      "8467\n",
      "8501\n",
      "8513\n",
      "8521\n",
      "8527\n",
      "8537\n",
      "8539\n",
      "8543\n",
      "8563\n",
      "8573\n",
      "8581\n",
      "8597\n",
      "8599\n",
      "8609\n",
      "8623\n",
      "8627\n",
      "8629\n",
      "8641\n",
      "8647\n",
      "8663\n",
      "8669\n",
      "8677\n",
      "8681\n",
      "8689\n",
      "8693\n",
      "8699\n",
      "8707\n",
      "8713\n",
      "8719\n",
      "8731\n",
      "8737\n",
      "8741\n",
      "8747\n",
      "8753\n",
      "8761\n",
      "8779\n",
      "8783\n",
      "8803\n",
      "8807\n",
      "8819\n",
      "8821\n",
      "8831\n",
      "8837\n",
      "8839\n",
      "8849\n",
      "8861\n",
      "8863\n",
      "8867\n",
      "8887\n",
      "8893\n",
      "8923\n",
      "8929\n",
      "8933\n",
      "8941\n",
      "8951\n",
      "8963\n",
      "8969\n",
      "8971\n",
      "8999\n",
      "9001\n",
      "9007\n",
      "9011\n",
      "9013\n",
      "9029\n",
      "9041\n",
      "9043\n",
      "9049\n",
      "9059\n",
      "9067\n",
      "9091\n",
      "9103\n",
      "9109\n",
      "9127\n",
      "9133\n",
      "9137\n",
      "9151\n",
      "9157\n",
      "9161\n",
      "9173\n",
      "9181\n",
      "9187\n",
      "9199\n",
      "9203\n",
      "9209\n",
      "9221\n",
      "9227\n",
      "9239\n",
      "9241\n",
      "9257\n",
      "9277\n",
      "9281\n",
      "9283\n",
      "9293\n",
      "9311\n",
      "9319\n",
      "9323\n",
      "9337\n",
      "9341\n",
      "9343\n",
      "9349\n",
      "9371\n",
      "9377\n",
      "9391\n",
      "9397\n",
      "9403\n",
      "9413\n",
      "9419\n",
      "9421\n",
      "9431\n",
      "9433\n",
      "9437\n",
      "9439\n",
      "9461\n",
      "9463\n",
      "9467\n",
      "9473\n",
      "9479\n",
      "9491\n",
      "9497\n",
      "9511\n",
      "9521\n",
      "9533\n",
      "9539\n",
      "9547\n",
      "9551\n",
      "9587\n",
      "9601\n",
      "9613\n",
      "9619\n",
      "9623\n",
      "9629\n",
      "9631\n",
      "9643\n",
      "9649\n",
      "9661\n",
      "9677\n",
      "9679\n",
      "9689\n",
      "9697\n",
      "9719\n",
      "9721\n",
      "9733\n",
      "9739\n",
      "9743\n",
      "9749\n",
      "9767\n",
      "9769\n",
      "9781\n",
      "9787\n",
      "9791\n",
      "9803\n",
      "9811\n",
      "9817\n",
      "9829\n",
      "9833\n",
      "9839\n",
      "9851\n",
      "9857\n",
      "9859\n",
      "9871\n",
      "9883\n",
      "9887\n",
      "9901\n",
      "9907\n",
      "9923\n",
      "9929\n",
      "9931\n",
      "9941\n",
      "9949\n",
      "9967\n",
      "9973\n"
     ]
    }
   ],
   "source": [
    "lower = int(input(\"Enter lower range: \"))\n",
    "upper = int(input(\"Enter upper range: \"))\n",
    " \n",
    "for num in range(lower,upper + 1):\n",
    "   # prime numbers are greater than 1\n",
    "   if num > 1:\n",
    "       for i in range(2,num):\n",
    "           if (num % i) == 0:\n",
    "               break\n",
    "       else:\n",
    "           print(num)"
   ]
  },
  {
   "cell_type": "code",
   "execution_count": 109,
   "metadata": {},
   "outputs": [
    {
     "name": "stdout",
     "output_type": "stream",
     "text": [
      "Enter upper limit of range: 10000\n",
      "2\t3\t5\t7\t11\t13\t17\t19\t23\t29\t31\t37\t41\t43\t47\t53\t59\t61\t67\t71\t73\t79\t83\t89\t97\t101\t103\t107\t109\t113\t127\t131\t137\t139\t149\t151\t157\t163\t167\t173\t179\t181\t191\t193\t197\t199\t211\t223\t227\t229\t233\t239\t241\t251\t257\t263\t269\t271\t277\t281\t283\t293\t307\t311\t313\t317\t331\t337\t347\t349\t353\t359\t367\t373\t379\t383\t389\t397\t401\t409\t419\t421\t431\t433\t439\t443\t449\t457\t461\t463\t467\t479\t487\t491\t499\t503\t509\t521\t523\t541\t547\t557\t563\t569\t571\t577\t587\t593\t599\t601\t607\t613\t617\t619\t631\t641\t643\t647\t653\t659\t661\t673\t677\t683\t691\t701\t709\t719\t727\t733\t739\t743\t751\t757\t761\t769\t773\t787\t797\t809\t811\t821\t823\t827\t829\t839\t853\t857\t859\t863\t877\t881\t883\t887\t907\t911\t919\t929\t937\t941\t947\t953\t967\t971\t977\t983\t991\t997\t1009\t1013\t1019\t1021\t1031\t1033\t1039\t1049\t1051\t1061\t1063\t1069\t1087\t1091\t1093\t1097\t1103\t1109\t1117\t1123\t1129\t1151\t1153\t1163\t1171\t1181\t1187\t1193\t1201\t1213\t1217\t1223\t1229\t1231\t1237\t1249\t1259\t1277\t1279\t1283\t1289\t1291\t1297\t1301\t1303\t1307\t1319\t1321\t1327\t1361\t1367\t1373\t1381\t1399\t1409\t1423\t1427\t1429\t1433\t1439\t1447\t1451\t1453\t1459\t1471\t1481\t1483\t1487\t1489\t1493\t1499\t1511\t1523\t1531\t1543\t1549\t1553\t1559\t1567\t1571\t1579\t1583\t1597\t1601\t1607\t1609\t1613\t1619\t1621\t1627\t1637\t1657\t1663\t1667\t1669\t1693\t1697\t1699\t1709\t1721\t1723\t1733\t1741\t1747\t1753\t1759\t1777\t1783\t1787\t1789\t1801\t1811\t1823\t1831\t1847\t1861\t1867\t1871\t1873\t1877\t1879\t1889\t1901\t1907\t1913\t1931\t1933\t1949\t1951\t1973\t1979\t1987\t1993\t1997\t1999\t2003\t2011\t2017\t2027\t2029\t2039\t2053\t2063\t2069\t2081\t2083\t2087\t2089\t2099\t2111\t2113\t2129\t2131\t2137\t2141\t2143\t2153\t2161\t2179\t2203\t2207\t2213\t2221\t2237\t2239\t2243\t2251\t2267\t2269\t2273\t2281\t2287\t2293\t2297\t2309\t2311\t2333\t2339\t2341\t2347\t2351\t2357\t2371\t2377\t2381\t2383\t2389\t2393\t2399\t2411\t2417\t2423\t2437\t2441\t2447\t2459\t2467\t2473\t2477\t2503\t2521\t2531\t2539\t2543\t2549\t2551\t2557\t2579\t2591\t2593\t2609\t2617\t2621\t2633\t2647\t2657\t2659\t2663\t2671\t2677\t2683\t2687\t2689\t2693\t2699\t2707\t2711\t2713\t2719\t2729\t2731\t2741\t2749\t2753\t2767\t2777\t2789\t2791\t2797\t2801\t2803\t2819\t2833\t2837\t2843\t2851\t2857\t2861\t2879\t2887\t2897\t2903\t2909\t2917\t2927\t2939\t2953\t2957\t2963\t2969\t2971\t2999\t3001\t3011\t3019\t3023\t3037\t3041\t3049\t3061\t3067\t3079\t3083\t3089\t3109\t3119\t3121\t3137\t3163\t3167\t3169\t3181\t3187\t3191\t3203\t3209\t3217\t3221\t3229\t3251\t3253\t3257\t3259\t3271\t3299\t3301\t3307\t3313\t3319\t3323\t3329\t3331\t3343\t3347\t3359\t3361\t3371\t3373\t3389\t3391\t3407\t3413\t3433\t3449\t3457\t3461\t3463\t3467\t3469\t3491\t3499\t3511\t3517\t3527\t3529\t3533\t3539\t3541\t3547\t3557\t3559\t3571\t3581\t3583\t3593\t3607\t3613\t3617\t3623\t3631\t3637\t3643\t3659\t3671\t3673\t3677\t3691\t3697\t3701\t3709\t3719\t3727\t3733\t3739\t3761\t3767\t3769\t3779\t3793\t3797\t3803\t3821\t3823\t3833\t3847\t3851\t3853\t3863\t3877\t3881\t3889\t3907\t3911\t3917\t3919\t3923\t3929\t3931\t3943\t3947\t3967\t3989\t4001\t4003\t4007\t4013\t4019\t4021\t4027\t4049\t4051\t4057\t4073\t4079\t4091\t4093\t4099\t4111\t4127\t4129\t4133\t4139\t4153\t4157\t4159\t4177\t4201\t4211\t4217\t4219\t4229\t4231\t4241\t4243\t4253\t4259\t4261\t4271\t4273\t4283\t4289\t4297\t4327\t4337\t4339\t4349\t4357\t4363\t4373\t4391\t4397\t4409\t4421\t4423\t4441\t4447\t4451\t4457\t4463\t4481\t4483\t4493\t4507\t4513\t4517\t4519\t4523\t4547\t4549\t4561\t4567\t4583\t4591\t4597\t4603\t4621\t4637\t4639\t4643\t4649\t4651\t4657\t4663\t4673\t4679\t4691\t4703\t4721\t4723\t4729\t4733\t4751\t4759\t4783\t4787\t4789\t4793\t4799\t4801\t4813\t4817\t4831\t4861\t4871\t4877\t4889\t4903\t4909\t4919\t4931\t4933\t4937\t4943\t4951\t4957\t4967\t4969\t4973\t4987\t4993\t4999\t5003\t5009\t5011\t5021\t5023\t5039\t5051\t5059\t5077\t5081\t5087\t5099\t5101\t5107\t5113\t5119\t5147\t5153\t5167\t5171\t5179\t5189\t5197\t5209\t5227\t5231\t5233\t5237\t5261\t5273\t5279\t5281\t5297\t5303\t5309\t5323\t5333\t5347\t5351\t5381\t5387\t5393\t5399\t5407\t5413\t5417\t5419\t5431\t5437\t5441\t5443\t5449\t5471\t5477\t5479\t5483\t5501\t5503\t5507\t5519\t5521\t5527\t5531\t5557\t5563\t5569\t5573\t5581\t5591\t5623\t5639\t5641\t5647\t5651\t5653\t5657\t5659\t5669\t5683\t5689\t5693\t5701\t5711\t5717\t5737\t5741\t5743\t5749\t5779\t5783\t5791\t5801\t5807\t5813\t5821\t5827\t5839\t5843\t5849\t5851\t5857\t5861\t5867\t5869\t5879\t5881\t5897\t5903\t5923\t5927\t5939\t5953\t5981\t5987\t6007\t6011\t6029\t6037\t6043\t6047\t6053\t6067\t6073\t6079\t6089\t6091\t6101\t6113\t6121\t6131\t6133\t6143\t6151\t6163\t6173\t6197\t6199\t6203\t6211\t6217\t6221\t6229\t6247\t6257\t6263\t6269\t6271\t6277\t6287\t6299\t6301\t6311\t6317\t6323\t6329\t6337\t6343\t6353\t6359\t6361\t6367\t6373\t6379\t6389\t6397\t6421\t6427\t6449\t6451\t6469\t6473\t6481\t6491\t6521\t6529\t6547\t6551\t6553\t6563\t6569\t6571\t6577\t6581\t6599\t6607\t6619\t6637\t6653\t6659\t6661\t6673\t6679\t6689\t6691\t6701\t6703\t6709\t6719\t6733\t6737\t6761\t6763\t6779\t6781\t6791\t6793\t6803\t6823\t6827\t6829\t6833\t6841\t6857\t6863\t6869\t6871\t6883\t6899\t6907\t6911\t6917\t6947\t6949\t6959\t6961\t6967\t6971\t6977\t6983\t6991\t6997\t7001\t7013\t7019\t7027\t7039\t7043\t7057\t7069\t7079\t7103\t7109\t7121\t7127\t7129\t7151\t7159\t7177\t7187\t7193\t7207\t7211\t7213\t7219\t7229\t7237\t7243\t7247\t7253\t7283\t7297\t7307\t7309\t7321\t7331\t7333\t7349\t7351\t7369\t7393\t7411\t7417\t7433\t7451\t7457\t7459\t7477\t7481\t7487\t7489\t7499\t7507\t7517\t7523\t7529\t7537\t7541\t7547\t7549\t7559\t7561\t7573\t7577\t7583\t7589\t7591\t7603\t7607\t7621\t7639\t7643\t7649\t7669\t7673\t7681\t7687\t7691\t7699\t7703\t7717\t7723\t7727\t7741\t7753\t7757\t7759\t7789\t7793\t7817\t7823\t7829\t7841\t7853\t7867\t7873\t7877\t7879\t7883\t7901\t7907\t7919\t7927\t7933\t7937\t7949\t7951\t7963\t7993\t8009\t8011\t8017\t8039\t8053\t8059\t8069\t8081\t8087\t8089\t8093\t8101\t8111\t8117\t8123\t8147\t8161\t8167\t8171\t8179\t8191\t8209\t8219\t8221\t8231\t8233\t8237\t8243\t8263\t8269\t8273\t8287\t8291\t8293\t8297\t8311\t8317\t8329\t8353\t8363\t8369\t8377\t8387\t8389\t8419\t8423\t8429\t8431\t8443\t8447\t8461\t8467\t8501\t8513\t8521\t8527\t8537\t8539\t8543\t8563\t8573\t8581\t8597\t8599\t8609\t8623\t8627\t8629\t8641\t8647\t8663\t8669\t8677\t8681\t8689\t8693\t8699\t8707\t8713\t8719\t8731\t8737\t8741\t8747\t8753\t8761\t8779\t8783\t8803\t8807\t8819\t8821\t8831\t8837\t8839\t8849\t8861\t8863\t8867\t8887\t8893\t8923\t8929\t8933\t8941\t8951\t8963\t8969\t8971\t8999\t9001\t9007\t9011\t9013\t9029\t9041\t9043\t9049\t9059\t9067\t9091\t9103\t9109\t9127\t9133\t9137\t9151\t9157\t9161\t9173\t9181\t9187\t9199\t9203\t9209\t9221\t9227\t9239\t9241\t9257\t9277\t9281\t9283\t9293\t9311\t9319\t9323\t9337\t9341\t9343\t9349\t9371\t9377\t9391\t9397\t9403\t9413\t9419\t9421\t9431\t9433\t9437\t9439\t9461\t9463\t9467\t9473\t9479\t9491\t9497\t9511\t9521\t9533\t9539\t9547\t9551\t9587\t9601\t9613\t9619\t9623\t9629\t9631\t9643\t9649\t9661\t9677\t9679\t9689\t9697\t9719\t9721\t9733\t9739\t9743\t9749\t9767\t9769\t9781\t9787\t9791\t9803\t9811\t9817\t9829\t9833\t9839\t9851\t9857\t9859\t9871\t9883\t9887\t9901\t9907\t9923\t9929\t9931\t9941\t9949\t9967\t9973\t\n"
     ]
    }
   ],
   "source": [
    "n=int(input(\"Enter upper limit of range: \"))\n",
    "sieve=set(range(2,n+1))\n",
    "while sieve:\n",
    "    prime=min(sieve)\n",
    "    print(prime,end=\"\\t\")\n",
    "    sieve-=set(range(prime,n+1,prime))\n",
    " \n",
    "print()"
   ]
  },
  {
   "cell_type": "code",
   "execution_count": null,
   "metadata": {},
   "outputs": [],
   "source": []
  }
 ],
 "metadata": {
  "kernelspec": {
   "display_name": "Python 3",
   "language": "python",
   "name": "python3"
  },
  "language_info": {
   "codemirror_mode": {
    "name": "ipython",
    "version": 3
   },
   "file_extension": ".py",
   "mimetype": "text/x-python",
   "name": "python",
   "nbconvert_exporter": "python",
   "pygments_lexer": "ipython3",
   "version": "3.7.3"
  }
 },
 "nbformat": 4,
 "nbformat_minor": 2
}
